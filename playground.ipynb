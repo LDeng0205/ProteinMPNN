{
 "cells": [
  {
   "cell_type": "code",
   "execution_count": 33,
   "metadata": {},
   "outputs": [],
   "source": [
    "import numpy as np\n",
    "import pandas as pd\n",
    "import os"
   ]
  },
  {
   "cell_type": "code",
   "execution_count": 34,
   "metadata": {},
   "outputs": [
    {
     "name": "stderr",
     "output_type": "stream",
     "text": [
      "/tmp/ipykernel_430879/784181557.py:5: DtypeWarning: Columns (30,31,36) have mixed types. Specify dtype option on import or set low_memory=False.\n",
      "  df_2 = pd.read_csv(processed_path_2)\n"
     ]
    }
   ],
   "source": [
    "processed_path_1 = '/home/exx/arthur/data/rocklin/Processed_K50_dG_datasets/Tsuboyama2023_Dataset1_20230416.csv'\n",
    "processed_path_2 = '/home/exx/arthur/data/rocklin/Processed_K50_dG_datasets/Tsuboyama2023_Dataset2_Dataset3_20230416.csv'\n",
    "\n",
    "# df_1 = pd.read_csv(processed_path_1)\n",
    "df_2 = pd.read_csv(processed_path_2)"
   ]
  },
  {
   "cell_type": "code",
   "execution_count": 35,
   "metadata": {},
   "outputs": [],
   "source": [
    "triple = pd.read_csv('/home/exx/arthur/data/rocklin/Processed_K50_dG_datasets/Triple_DMS_list.csv')\n",
    "double = pd.read_csv('/home/exx/arthur/data/rocklin/Processed_K50_dG_datasets/Double_DMS_list.csv')\n",
    "single = pd.read_csv('/home/exx/arthur/data/rocklin/Processed_K50_dG_datasets/Single_DMS_list.csv')"
   ]
  },
  {
   "cell_type": "code",
   "execution_count": 36,
   "metadata": {},
   "outputs": [
    {
     "name": "stdout",
     "output_type": "stream",
     "text": [
      "36\n",
      "725\n",
      "983\n"
     ]
    }
   ],
   "source": [
    "print(len(triple))\n",
    "print(len(double))\n",
    "print(len(single))"
   ]
  },
  {
   "cell_type": "code",
   "execution_count": 37,
   "metadata": {},
   "outputs": [],
   "source": [
    "names = df_2['WT_name']"
   ]
  },
  {
   "cell_type": "code",
   "execution_count": 38,
   "metadata": {},
   "outputs": [
    {
     "data": {
      "text/html": [
       "<div>\n",
       "<style scoped>\n",
       "    .dataframe tbody tr th:only-of-type {\n",
       "        vertical-align: middle;\n",
       "    }\n",
       "\n",
       "    .dataframe tbody tr th {\n",
       "        vertical-align: top;\n",
       "    }\n",
       "\n",
       "    .dataframe thead th {\n",
       "        text-align: right;\n",
       "    }\n",
       "</style>\n",
       "<table border=\"1\" class=\"dataframe\">\n",
       "  <thead>\n",
       "    <tr style=\"text-align: right;\">\n",
       "      <th></th>\n",
       "      <th>name</th>\n",
       "      <th>dna_seq</th>\n",
       "      <th>log10_K50_t</th>\n",
       "      <th>log10_K50_t_95CI_high</th>\n",
       "      <th>log10_K50_t_95CI_low</th>\n",
       "      <th>log10_K50_t_95CI</th>\n",
       "      <th>fitting_error_t</th>\n",
       "      <th>log10_K50unfolded_t</th>\n",
       "      <th>deltaG_t</th>\n",
       "      <th>deltaG_t_95CI_high</th>\n",
       "      <th>...</th>\n",
       "      <th>aa_seq</th>\n",
       "      <th>mut_type</th>\n",
       "      <th>WT_name</th>\n",
       "      <th>WT_cluster</th>\n",
       "      <th>log10_K50_trypsin_ML</th>\n",
       "      <th>log10_K50_chymotrypsin_ML</th>\n",
       "      <th>dG_ML</th>\n",
       "      <th>ddG_ML</th>\n",
       "      <th>Stabilizing_mut</th>\n",
       "      <th>pair_name</th>\n",
       "    </tr>\n",
       "  </thead>\n",
       "  <tbody>\n",
       "    <tr>\n",
       "      <th>0</th>\n",
       "      <td>EA|run2_0325_0005.pdb</td>\n",
       "      <td>TCTGCTGGCGGCTCCGCGGGTGGTTCCGCTGGTGGTGACGAAGTTA...</td>\n",
       "      <td>1.227105</td>\n",
       "      <td>1.255092</td>\n",
       "      <td>1.197643</td>\n",
       "      <td>0.057449</td>\n",
       "      <td>0.063626</td>\n",
       "      <td>-0.997071</td>\n",
       "      <td>2.998711</td>\n",
       "      <td>3.038485</td>\n",
       "      <td>...</td>\n",
       "      <td>DEVTIHLGDKTIRVDGLDKELLEILKELARRGADEEELRKEIERWER</td>\n",
       "      <td>wt</td>\n",
       "      <td>EA|run2_0325_0005.pdb</td>\n",
       "      <td>EEHH</td>\n",
       "      <td>1.2271050771597385</td>\n",
       "      <td>1.2135682995736825</td>\n",
       "      <td>3.3321258839433834</td>\n",
       "      <td>0.01719762915616707</td>\n",
       "      <td>False</td>\n",
       "      <td>NaN</td>\n",
       "    </tr>\n",
       "    <tr>\n",
       "      <th>1</th>\n",
       "      <td>EA|run2_0325_0005.pdb_wtm</td>\n",
       "      <td>TCCGCGGGTGGTTCCGCTGGCGGTTCTGCGGGCGGTGACGAAGTTA...</td>\n",
       "      <td>1.297559</td>\n",
       "      <td>1.381800</td>\n",
       "      <td>1.243835</td>\n",
       "      <td>0.137965</td>\n",
       "      <td>0.092264</td>\n",
       "      <td>-0.997071</td>\n",
       "      <td>3.099109</td>\n",
       "      <td>3.220506</td>\n",
       "      <td>...</td>\n",
       "      <td>DEVTIHLGDKTIRVDGLDKELLEILKELARRGADEEELRKEIERWER</td>\n",
       "      <td>wt</td>\n",
       "      <td>EA|run2_0325_0005.pdb</td>\n",
       "      <td>EEHH</td>\n",
       "      <td>1.2975591020191513</td>\n",
       "      <td>1.2201805304541726</td>\n",
       "      <td>3.3998316632160224</td>\n",
       "      <td>0.08490340842880606</td>\n",
       "      <td>False</td>\n",
       "      <td>NaN</td>\n",
       "    </tr>\n",
       "    <tr>\n",
       "      <th>2</th>\n",
       "      <td>EA|run2_0325_0005.pdb_wte</td>\n",
       "      <td>TCCGCTGGTGGCTCTGCGGGCGGTTCTGCTGGTGGCGACGAAGTTA...</td>\n",
       "      <td>1.262708</td>\n",
       "      <td>1.314787</td>\n",
       "      <td>1.239876</td>\n",
       "      <td>0.074911</td>\n",
       "      <td>0.092305</td>\n",
       "      <td>-0.997071</td>\n",
       "      <td>3.049332</td>\n",
       "      <td>3.123805</td>\n",
       "      <td>...</td>\n",
       "      <td>DEVTIHLGDKTIRVDGLDKELLEILKELARRGADEEELRKEIERWER</td>\n",
       "      <td>wt</td>\n",
       "      <td>EA|run2_0325_0005.pdb</td>\n",
       "      <td>EEHH</td>\n",
       "      <td>1.2627076164958364</td>\n",
       "      <td>1.169472475788951</td>\n",
       "      <td>3.315782210420261</td>\n",
       "      <td>0.0008539556330444675</td>\n",
       "      <td>False</td>\n",
       "      <td>NaN</td>\n",
       "    </tr>\n",
       "    <tr>\n",
       "      <th>3</th>\n",
       "      <td>EA|run2_0325_0005.pdb_wty</td>\n",
       "      <td>TCCGCTGGTGGCTCCGCGGGTGGTTCCGCTGGTGGTGACGAAGTTA...</td>\n",
       "      <td>1.244782</td>\n",
       "      <td>1.314467</td>\n",
       "      <td>1.195005</td>\n",
       "      <td>0.119462</td>\n",
       "      <td>0.074537</td>\n",
       "      <td>-0.997071</td>\n",
       "      <td>3.023818</td>\n",
       "      <td>3.123346</td>\n",
       "      <td>...</td>\n",
       "      <td>DEVTIHLGDKTIRVDGLDKELLEILKELARRGADEEELRKEIERWER</td>\n",
       "      <td>wt</td>\n",
       "      <td>EA|run2_0325_0005.pdb</td>\n",
       "      <td>EEHH</td>\n",
       "      <td>1.2447822859698547</td>\n",
       "      <td>1.1543165166325822</td>\n",
       "      <td>3.272933265369934</td>\n",
       "      <td>-0.04199498941728219</td>\n",
       "      <td>False</td>\n",
       "      <td>NaN</td>\n",
       "    </tr>\n",
       "    <tr>\n",
       "      <th>4</th>\n",
       "      <td>EA|run2_0325_0005.pdb_wth</td>\n",
       "      <td>TCCGCTGGCGGCTCCGCTGGCGGCTCCGCTGGCGGCTCCGCTGGCG...</td>\n",
       "      <td>0.998142</td>\n",
       "      <td>1.134508</td>\n",
       "      <td>0.723845</td>\n",
       "      <td>0.410663</td>\n",
       "      <td>0.315576</td>\n",
       "      <td>-1.010140</td>\n",
       "      <td>2.694897</td>\n",
       "      <td>2.885558</td>\n",
       "      <td>...</td>\n",
       "      <td>DEVTIHLGDKTIRVDGLDKELLEILKELARRGADEEELRKEIERWER</td>\n",
       "      <td>wt</td>\n",
       "      <td>EA|run2_0325_0005.pdb</td>\n",
       "      <td>EEHH</td>\n",
       "      <td>0.9981417661631856</td>\n",
       "      <td>0.6573573370630326</td>\n",
       "      <td>2.570241917260095</td>\n",
       "      <td>-0.7446863375271211</td>\n",
       "      <td>False</td>\n",
       "      <td>NaN</td>\n",
       "    </tr>\n",
       "  </tbody>\n",
       "</table>\n",
       "<p>5 rows × 37 columns</p>\n",
       "</div>"
      ],
      "text/plain": [
       "                        name  \\\n",
       "0      EA|run2_0325_0005.pdb   \n",
       "1  EA|run2_0325_0005.pdb_wtm   \n",
       "2  EA|run2_0325_0005.pdb_wte   \n",
       "3  EA|run2_0325_0005.pdb_wty   \n",
       "4  EA|run2_0325_0005.pdb_wth   \n",
       "\n",
       "                                             dna_seq  log10_K50_t  \\\n",
       "0  TCTGCTGGCGGCTCCGCGGGTGGTTCCGCTGGTGGTGACGAAGTTA...     1.227105   \n",
       "1  TCCGCGGGTGGTTCCGCTGGCGGTTCTGCGGGCGGTGACGAAGTTA...     1.297559   \n",
       "2  TCCGCTGGTGGCTCTGCGGGCGGTTCTGCTGGTGGCGACGAAGTTA...     1.262708   \n",
       "3  TCCGCTGGTGGCTCCGCGGGTGGTTCCGCTGGTGGTGACGAAGTTA...     1.244782   \n",
       "4  TCCGCTGGCGGCTCCGCTGGCGGCTCCGCTGGCGGCTCCGCTGGCG...     0.998142   \n",
       "\n",
       "   log10_K50_t_95CI_high  log10_K50_t_95CI_low  log10_K50_t_95CI  \\\n",
       "0               1.255092              1.197643          0.057449   \n",
       "1               1.381800              1.243835          0.137965   \n",
       "2               1.314787              1.239876          0.074911   \n",
       "3               1.314467              1.195005          0.119462   \n",
       "4               1.134508              0.723845          0.410663   \n",
       "\n",
       "   fitting_error_t  log10_K50unfolded_t  deltaG_t  deltaG_t_95CI_high  ...  \\\n",
       "0         0.063626            -0.997071  2.998711            3.038485  ...   \n",
       "1         0.092264            -0.997071  3.099109            3.220506  ...   \n",
       "2         0.092305            -0.997071  3.049332            3.123805  ...   \n",
       "3         0.074537            -0.997071  3.023818            3.123346  ...   \n",
       "4         0.315576            -1.010140  2.694897            2.885558  ...   \n",
       "\n",
       "                                            aa_seq  mut_type  \\\n",
       "0  DEVTIHLGDKTIRVDGLDKELLEILKELARRGADEEELRKEIERWER        wt   \n",
       "1  DEVTIHLGDKTIRVDGLDKELLEILKELARRGADEEELRKEIERWER        wt   \n",
       "2  DEVTIHLGDKTIRVDGLDKELLEILKELARRGADEEELRKEIERWER        wt   \n",
       "3  DEVTIHLGDKTIRVDGLDKELLEILKELARRGADEEELRKEIERWER        wt   \n",
       "4  DEVTIHLGDKTIRVDGLDKELLEILKELARRGADEEELRKEIERWER        wt   \n",
       "\n",
       "                 WT_name  WT_cluster  log10_K50_trypsin_ML  \\\n",
       "0  EA|run2_0325_0005.pdb        EEHH    1.2271050771597385   \n",
       "1  EA|run2_0325_0005.pdb        EEHH    1.2975591020191513   \n",
       "2  EA|run2_0325_0005.pdb        EEHH    1.2627076164958364   \n",
       "3  EA|run2_0325_0005.pdb        EEHH    1.2447822859698547   \n",
       "4  EA|run2_0325_0005.pdb        EEHH    0.9981417661631856   \n",
       "\n",
       "   log10_K50_chymotrypsin_ML               dG_ML                 ddG_ML  \\\n",
       "0         1.2135682995736825  3.3321258839433834    0.01719762915616707   \n",
       "1         1.2201805304541726  3.3998316632160224    0.08490340842880606   \n",
       "2          1.169472475788951   3.315782210420261  0.0008539556330444675   \n",
       "3         1.1543165166325822   3.272933265369934   -0.04199498941728219   \n",
       "4         0.6573573370630326   2.570241917260095    -0.7446863375271211   \n",
       "\n",
       "   Stabilizing_mut  pair_name  \n",
       "0            False        NaN  \n",
       "1            False        NaN  \n",
       "2            False        NaN  \n",
       "3            False        NaN  \n",
       "4            False        NaN  \n",
       "\n",
       "[5 rows x 37 columns]"
      ]
     },
     "execution_count": 38,
     "metadata": {},
     "output_type": "execute_result"
    }
   ],
   "source": [
    "df_2.head()"
   ]
  },
  {
   "cell_type": "code",
   "execution_count": 44,
   "metadata": {},
   "outputs": [],
   "source": [
    "domain_names = set()\n",
    "for n in names:\n",
    "    domain_names.add(n.split('.')[0])"
   ]
  },
  {
   "cell_type": "code",
   "execution_count": 49,
   "metadata": {},
   "outputs": [
    {
     "name": "stdout",
     "output_type": "stream",
     "text": [
      "Train Split: ['6SOW', 'EEHEE_rd3_0130', 'r10_490_TrROS_Hall', '2KVT', '2JTV', 'EEHEE_rd4_0003', 'EEHEE_rd4_0469', '1E6H', '1IGD', 'EEHEE_rd3_0094', 'GG|run3_1315_0003', 'HHH_rd1_0473', 'EHEE_rd2_0152', '2I5L', '2K5N', '5VNT', '2KT8', 'HEEH_KT_rd6_3632', '2KGT', 'HHH_rd4_0124', '1PGA', '1BNZ', '6EWT', '9AME', '1WCL', '5FWB', 'v2_6IVS', 'r11_797_TrROS_Hall', '6EWU', '6SCW', '2L9R', 'HEEH_KT_rd6_0872', '2OP7', '5XR0', 'EEHEE_rd4_0647', 'r3_162_TrROS_Hall', 'r4_43_TrROS_Hall', '1TUC', '2K5P', '5Z2S', 'GG|run6_0851_0003', '2L2P', '2KCF', '1WR4', '2MXD', '1VII', '5UB0', 'HEEH_KT_rd6_1415', '1GJS', '1F0M', 'EHEE_rd4_0172', '2RRT', '1UCS', '6EWS', 'XX|run1_0461_0006', 'EHEE_rd2_0196', '2JVG', '6MSI', '2KFV', 'HEEH_KT_rd6_3546', '1A32', 'EHEE_rd4_0840', '2RRU', '1TUD', '1ORC', 'EHEE_rd4_0394', 'EHEE_rd1_0459', '5UP5', '3DKM', '2RU9', 'EHEE_rd4_0195', '2CJJ', 'GG|run6_1310_0004', '6M3N', '2LYR', 'v2_2HDZ', '1PV0', '5UBS', 'EHEE_rd3_0035', '2D1U', '2WXC', '4UR4', 'XX|run6_1020_0004', '1ENH', '2MCK', 'HHH_rd1_0142', '1W4G', 'HHH_rd2_0181', '2BTT', 'HHH_rd1_0949', '2M8I', '2ZW1', '1EKL', '5ECA', 'XX|run3_1384_0005', 'HEEH_KT_rd6_0793', '2JWS', '2KZI', '3AME', 'HHH_rd4_0395', '5UYO', '1MJC', '2L2D', 'r16_88_TrROS_Hall', '1OPS', '1YP5', 'EHEE_rd4_0086', '1ZHC', '2MSJ', '1GL5', 'EHEE_rd4_0098', '2MC5', '2JN4', '6OBK', 'GG|run3_1365_0003', '6FVC', 'EEHEE_rd3_1587', '2JT1', '2MYX', 'r11_233_TrROS_Hall', '5ZD0', 'EEHEE_rd4_0005', '2L7F', '2JVD', 'XX|run1_0367_0004', '1YEZ', '2ROT', 'v2_4UZX', '6IWS', '2K28', 'EHEE_rd2_0372', 'HEEH_rd4_0094', 'EEHEE_rd4_0794', '2LC2', '2M9E', 'EHEE_rd4_0864', '2LP5', '2GP8', 'EEHEE_rd3_1810', '5LWC', 'EA|run3_0525_0006', '3QF6', 'r4_412_TrROS_Hall', 'EHEE_rd4_0463', '2EXD', 'EA|run5_0050_0004', 'GG|run5_1147_0004', '2MKX', '2N88', 'EA|run6_1429_0006', '1I2T', '2B89', '2MCH', '1UZC', 'GG|run2_0085_0001', 'HHH_rd4_0816', '1IFY', 'EEHEE_rd4_0481', '2K5H', 'r18_3_TrROS_Hall', '1K1V', '1PSE', 'v2_5XK5', '1JIC', '2M0C', 'EEHEE_rd3_0146', '1IGV', 'v2R14S|R16S_2L3X', 'XX|run1_0455_0002', 'EEHEE_rd4_0371', '2LQK', 'HHH_rd1_0598', '2KWH', '1URF', '5FW9', 'GG|run1_1390_0006', '1PWT', 'EA|run2_0290_0001', '2LO1', '2K9D', 'EHEE_rd4_0877', 'EHEE_rd1_0407', 'XX|run5_0690_0002', 'r15_550_TrROS_Hall', '2JZ2', '1PGX', '2LSS', '1O6X', 'EEHEE_rd4_0470', 'XX|run5_1034_0004', '1UBQ', '2YSB', 'HHH_rd1_0244', 'HEEH_rd4_0097', '4HCK', '1YRF', 'HHH_rd2_0155', '2BTH', 'EHEE_rd3_0053', 'EHEE_rd2_0487', '1TG0', 'EEHEE_rd4_0763', '3L1X', '1CSQ', '2AMI', 'HHH_rd1_0516', '2MSG', '3NGP', '2HBB', '5JRT', 'EEHEE_rd3_1702', '7MSI', 'EHEE_rd2_0751', '2MWA', 'r11_829_TrROS_Hall', '2YSF', 'EHEE_rd4_0726', '2M8J', 'GG|run5_0637_0006', '2M9I', 'XX|run1_0254_0003', 'v2_2L15', '1ZLM', '2LX2', '1QKX', '2PTL', 'EHEE_rd2_0191', 'HHH_rd1_0606', '5LXJ', 'HHH_rd1_0493', '2L33', '2LUM', '2N9L', '3ZGK', '1UFM', 'HHH_rd4_0613', 'HHH_rd4_0557', '2L09', 'EEHEE_rd4_0308', 'HHH_rd1_0578', 'HEEH_rd4_0349', 'EHEE_rd4_0325', '1AOY', 'EHEE_rd2_0601', '6RO9', '5OAO', '8MSI', '2KZJ', 'v2_2LDM', '4C26', '2PFU', '5GU9', 'EA|run7_1572_0002', 'HHH_rd1_0335', '1W4F', '8AME', '2KXD', '1SIF', 'GG|run6_0775_0006', '3V1A', '2M8U', '1R69', '4UZW', '6ACV', '1Y0M', 'XX|run7_0974_0003', 'EEHEE_rd3_1818', 'r10_572_TrROS_Hall', '6NJF', 'XX|run8_1098_0003', 'EEHEE_rd4_0784', '2M7O', 'EEHEE_rd3_0602', '1I6C', '2WNM', '2LGW', '5UCE', '2KRU', '2L6Q', 'GG|run5_1309_0004', 'v2_2M5A', 'GG|run4_0284_0002', 'r11_1081_TrROS_Hall', '2MH8', '2LVN']\n",
      "Validation Split: ['5KPH', 'EEHEE_rd3_1716', '2LYP', '1B7J', 'r10_437_TrROS_Hall', '2M2J', 'EEHEE_rd3_1049', '2RJV', '2LYQ', '1EM7', '6NMW', 'XX|run10_1081_0004', '2JWT', '2N4R', '2M0Y', '7BPM', '2B88', 'r6_831_TrROS_Hall', 'EA|run2_0325_0005', 'HEEH_KT_rd6_0790', '2K1B', '2MW9', 'EHEE_rd1_0101', 'EEHEE_rd4_0256', 'EA|run6_0680_0006', '2LHC', '1SRM', '1W4H', '5AHT', '1GB4', 'EEHEE_rd3_1367', '2M0X', '2QFF', '2KVS', '2MA4', '2LHR', 'EEHEE_rd3_1615', '2L7M', '2AME', 'GG|run4_1050_0002', 'r11_569_TrROS_Hall', '4AME', 'EEHEE_rd3_0657', 'v2K43S_2KVV', '2O2W', '1BK2', '3MYC', '6IPY', '4G3O', '6YSE', '1QKH', '1V1C', 'r6_560_TrROS_Hall', 'v2R31S|R32S_2N5D', '2OCH', 'EHEE_rd2_1106', '1S1N', 'XX|run8_1203_0001', '1H92', 'HEEH_rd3_0223', '1LP1']\n",
      "Test Split: ['v2_1OGW', '1GYZ', '2LCL', '2M8E', '6AME', '2KRS', '1A0N', '2WQG', 'EEHEE_rd3_1498', '2MI6', '6NS8', '1H8K', 'EEHEE_rd3_0809', 'v2_2LC2', 'EHEE_rd4_0044', 'HHH_rd4_0676', '3I35', 'HEEH_KT_rd6_0007', 'r11_951_TrROS_Hall', '1QP2', 'EHEE_rd4_0502', 'EHEE_rd4_0625', '2KCM', '2MWB', 'XX|run8_1063_0003', 'HEEH_KT_rd6_0280', '2LXK', '1E0L', '2MLB', '6XQC', 'r12_757_TrROS_Hall', 'HEEH_rd3_0055', 'r14_263_TrROS_Hall', '1MSJ', '2K52', 'EHEE_rd2_1257', 'HEEH_KT_rd6_0746', 'EA|run3_0321_0005', '3CQT', 'GG|run4_0467_0002', '2KR3', '1YU5', 'EEHEE_rd4_0363', '1QLY', '2M2L', 'EEHEE_rd3_0019', 'XX|run8_0733_0006', 'EA|run3_1140_0005', '2MKY', 'v2_2LXE', '2M6Y', '2KYB', '2LJ3', '2K2A', 'XX|run6_1081_0004', '1SF0', '2M9F', '2CDT', 'HHH_rd4_0870', 'EA|run7_1025_0001', '7JJK', 'r7_587_TrROS_Hall']\n"
     ]
    }
   ],
   "source": [
    "np.random.seed(0)\n",
    "# Convert the set to a list for indexing\n",
    "domain_names_list = list(domain_names)\n",
    "\n",
    "# Shuffle the list to ensure randomness\n",
    "np.random.shuffle(domain_names_list)\n",
    "\n",
    "# Calculate the split sizes\n",
    "total = len(domain_names_list)\n",
    "train_size = int(0.70 * total)\n",
    "val_size = int(0.15 * total)\n",
    "test_size = total - train_size - val_size  # Ensure remaining goes to test\n",
    "\n",
    "# Split into train, val, test\n",
    "train_split = domain_names_list[:train_size]\n",
    "val_split = domain_names_list[train_size:train_size + val_size]\n",
    "test_split = domain_names_list[train_size + val_size:]\n",
    "\n",
    "# Print the results\n",
    "print(\"Train Split:\", train_split)\n",
    "print(\"Validation Split:\", val_split)\n",
    "print(\"Test Split:\", test_split)\n",
    "\n",
    "# Save train split\n",
    "with open(\"rocklin/train_split.txt\", \"w\") as f:\n",
    "    for item in train_split:\n",
    "        f.write(f\"{item}\\n\")\n",
    "\n",
    "# Save validation split\n",
    "with open(\"rocklin/val_split.txt\", \"w\") as f:\n",
    "    for item in val_split:\n",
    "        f.write(f\"{item}\\n\")\n",
    "\n",
    "# Save test split\n",
    "with open(\"rocklin/test_split.txt\", \"w\") as f:\n",
    "    for item in test_split:\n",
    "        f.write(f\"{item}\\n\")"
   ]
  },
  {
   "cell_type": "code",
   "execution_count": 52,
   "metadata": {},
   "outputs": [
    {
     "name": "stdout",
     "output_type": "stream",
     "text": [
      "There are 535454 training sequences\n",
      "There are 124279 validation sequences\n",
      "There are 116565 test sequences\n"
     ]
    }
   ],
   "source": [
    "train_seq_cnt, val_seq_cnt, test_seq_cnt = 0, 0, 0\n",
    "for n in names:\n",
    "    if n.split('.')[0] in train_split:\n",
    "        train_seq_cnt += 1\n",
    "    elif n.split('.')[0] in val_split:\n",
    "        val_seq_cnt += 1\n",
    "    elif n.split('.')[0] in test_split:\n",
    "        test_seq_cnt += 1\n",
    "print(f'There are {train_seq_cnt} training sequences')\n",
    "print(f'There are {val_seq_cnt} validation sequences')\n",
    "print(f'There are {test_seq_cnt} test sequences')"
   ]
  },
  {
   "cell_type": "code",
   "execution_count": 50,
   "metadata": {},
   "outputs": [],
   "source": [
    "for name in domain_names_list:\n",
    "    name = name.replace(\"|\", ':')\n",
    "    name = name.split('.')[0]\n",
    "    path = os.path.join('/home/exx/arthur/data/rocklin/AlphaFold_model_PDBs', f'{name}.pdb')\n",
    "    if not os.path.exists(path):\n",
    "        print(path)"
   ]
  },
  {
   "cell_type": "code",
   "execution_count": 51,
   "metadata": {},
   "outputs": [
    {
     "name": "stdout",
     "output_type": "stream",
     "text": [
      "There are 862 .pdb files in the directory.\n"
     ]
    }
   ],
   "source": [
    "# Specify the directory\n",
    "directory = '/home/exx/arthur/data/rocklin/AlphaFold_model_PDBs'\n",
    "\n",
    "# Count the number of .pdb files\n",
    "pdb_files = [f for f in os.listdir(directory) if f.endswith('.pdb')]\n",
    "print(f\"There are {len(pdb_files)} .pdb files in the directory.\")\n"
   ]
  }
 ],
 "metadata": {
  "kernelspec": {
   "display_name": "mlfold",
   "language": "python",
   "name": "python3"
  },
  "language_info": {
   "codemirror_mode": {
    "name": "ipython",
    "version": 3
   },
   "file_extension": ".py",
   "mimetype": "text/x-python",
   "name": "python",
   "nbconvert_exporter": "python",
   "pygments_lexer": "ipython3",
   "version": "3.9.19"
  }
 },
 "nbformat": 4,
 "nbformat_minor": 2
}
