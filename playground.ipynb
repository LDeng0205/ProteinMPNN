{
 "cells": [
  {
   "cell_type": "code",
   "execution_count": 1,
   "metadata": {},
   "outputs": [],
   "source": [
    "import numpy as np\n",
    "import pandas as pd\n",
    "import os"
   ]
  },
  {
   "cell_type": "code",
   "execution_count": 2,
   "metadata": {},
   "outputs": [
    {
     "name": "stderr",
     "output_type": "stream",
     "text": [
      "/tmp/ipykernel_457614/1793142174.py:5: DtypeWarning: Columns (30,31,36) have mixed types. Specify dtype option on import or set low_memory=False.\n",
      "  df_2 = pd.read_csv(processed_path_2)\n"
     ]
    }
   ],
   "source": [
    "processed_path_1 = '/home/exx/arthur/data/rocklin/Processed_K50_dG_datasets/Tsuboyama2023_Dataset1_20230416.csv'\n",
    "processed_path_2 = '/home/exx/arthur/data/rocklin/Processed_K50_dG_datasets/Tsuboyama2023_Dataset2_Dataset3_20230416.csv'\n",
    "\n",
    "# df_1 = pd.read_csv(processed_path_1)\n",
    "df_2 = pd.read_csv(processed_path_2)"
   ]
  },
  {
   "cell_type": "code",
   "execution_count": 3,
   "metadata": {},
   "outputs": [],
   "source": [
    "triple = pd.read_csv('/home/exx/arthur/data/rocklin/Processed_K50_dG_datasets/Triple_DMS_list.csv')\n",
    "double = pd.read_csv('/home/exx/arthur/data/rocklin/Processed_K50_dG_datasets/Double_DMS_list.csv')\n",
    "single = pd.read_csv('/home/exx/arthur/data/rocklin/Processed_K50_dG_datasets/Single_DMS_list.csv')"
   ]
  },
  {
   "cell_type": "code",
   "execution_count": 4,
   "metadata": {},
   "outputs": [
    {
     "name": "stdout",
     "output_type": "stream",
     "text": [
      "36\n",
      "725\n",
      "983\n"
     ]
    }
   ],
   "source": [
    "print(len(triple))\n",
    "print(len(double))\n",
    "print(len(single))"
   ]
  },
  {
   "cell_type": "code",
   "execution_count": 40,
   "metadata": {},
   "outputs": [
    {
     "data": {
      "text/plain": [
       "Index(['name', 'dna_seq', 'log10_K50_t', 'log10_K50_t_95CI_high',\n",
       "       'log10_K50_t_95CI_low', 'log10_K50_t_95CI', 'fitting_error_t',\n",
       "       'log10_K50unfolded_t', 'deltaG_t', 'deltaG_t_95CI_high',\n",
       "       'deltaG_t_95CI_low', 'deltaG_t_95CI', 'log10_K50_c',\n",
       "       'log10_K50_c_95CI_high', 'log10_K50_c_95CI_low', 'log10_K50_c_95CI',\n",
       "       'fitting_error_c', 'log10_K50unfolded_c', 'deltaG_c',\n",
       "       'deltaG_c_95CI_high', 'deltaG_c_95CI_low', 'deltaG_c_95CI', 'deltaG',\n",
       "       'deltaG_95CI_high', 'deltaG_95CI_low', 'deltaG_95CI', 'aa_seq_full',\n",
       "       'aa_seq', 'mut_type', 'WT_name', 'WT_cluster', 'log10_K50_trypsin_ML',\n",
       "       'log10_K50_chymotrypsin_ML', 'dG_ML', 'ddG_ML', 'Stabilizing_mut',\n",
       "       'pair_name'],\n",
       "      dtype='object')"
      ]
     },
     "execution_count": 40,
     "metadata": {},
     "output_type": "execute_result"
    }
   ],
   "source": [
    "df_2.columns"
   ]
  },
  {
   "cell_type": "code",
   "execution_count": 5,
   "metadata": {},
   "outputs": [],
   "source": [
    "names = df_2['WT_name']"
   ]
  },
  {
   "cell_type": "code",
   "execution_count": 6,
   "metadata": {},
   "outputs": [
    {
     "data": {
      "text/html": [
       "<div>\n",
       "<style scoped>\n",
       "    .dataframe tbody tr th:only-of-type {\n",
       "        vertical-align: middle;\n",
       "    }\n",
       "\n",
       "    .dataframe tbody tr th {\n",
       "        vertical-align: top;\n",
       "    }\n",
       "\n",
       "    .dataframe thead th {\n",
       "        text-align: right;\n",
       "    }\n",
       "</style>\n",
       "<table border=\"1\" class=\"dataframe\">\n",
       "  <thead>\n",
       "    <tr style=\"text-align: right;\">\n",
       "      <th></th>\n",
       "      <th>name</th>\n",
       "      <th>dna_seq</th>\n",
       "      <th>log10_K50_t</th>\n",
       "      <th>log10_K50_t_95CI_high</th>\n",
       "      <th>log10_K50_t_95CI_low</th>\n",
       "      <th>log10_K50_t_95CI</th>\n",
       "      <th>fitting_error_t</th>\n",
       "      <th>log10_K50unfolded_t</th>\n",
       "      <th>deltaG_t</th>\n",
       "      <th>deltaG_t_95CI_high</th>\n",
       "      <th>...</th>\n",
       "      <th>aa_seq</th>\n",
       "      <th>mut_type</th>\n",
       "      <th>WT_name</th>\n",
       "      <th>WT_cluster</th>\n",
       "      <th>log10_K50_trypsin_ML</th>\n",
       "      <th>log10_K50_chymotrypsin_ML</th>\n",
       "      <th>dG_ML</th>\n",
       "      <th>ddG_ML</th>\n",
       "      <th>Stabilizing_mut</th>\n",
       "      <th>pair_name</th>\n",
       "    </tr>\n",
       "  </thead>\n",
       "  <tbody>\n",
       "    <tr>\n",
       "      <th>0</th>\n",
       "      <td>EA|run2_0325_0005.pdb</td>\n",
       "      <td>TCTGCTGGCGGCTCCGCGGGTGGTTCCGCTGGTGGTGACGAAGTTA...</td>\n",
       "      <td>1.227105</td>\n",
       "      <td>1.255092</td>\n",
       "      <td>1.197643</td>\n",
       "      <td>0.057449</td>\n",
       "      <td>0.063626</td>\n",
       "      <td>-0.997071</td>\n",
       "      <td>2.998711</td>\n",
       "      <td>3.038485</td>\n",
       "      <td>...</td>\n",
       "      <td>DEVTIHLGDKTIRVDGLDKELLEILKELARRGADEEELRKEIERWER</td>\n",
       "      <td>wt</td>\n",
       "      <td>EA|run2_0325_0005.pdb</td>\n",
       "      <td>EEHH</td>\n",
       "      <td>1.2271050771597385</td>\n",
       "      <td>1.2135682995736825</td>\n",
       "      <td>3.3321258839433834</td>\n",
       "      <td>0.01719762915616707</td>\n",
       "      <td>False</td>\n",
       "      <td>NaN</td>\n",
       "    </tr>\n",
       "    <tr>\n",
       "      <th>1</th>\n",
       "      <td>EA|run2_0325_0005.pdb_wtm</td>\n",
       "      <td>TCCGCGGGTGGTTCCGCTGGCGGTTCTGCGGGCGGTGACGAAGTTA...</td>\n",
       "      <td>1.297559</td>\n",
       "      <td>1.381800</td>\n",
       "      <td>1.243835</td>\n",
       "      <td>0.137965</td>\n",
       "      <td>0.092264</td>\n",
       "      <td>-0.997071</td>\n",
       "      <td>3.099109</td>\n",
       "      <td>3.220506</td>\n",
       "      <td>...</td>\n",
       "      <td>DEVTIHLGDKTIRVDGLDKELLEILKELARRGADEEELRKEIERWER</td>\n",
       "      <td>wt</td>\n",
       "      <td>EA|run2_0325_0005.pdb</td>\n",
       "      <td>EEHH</td>\n",
       "      <td>1.2975591020191513</td>\n",
       "      <td>1.2201805304541726</td>\n",
       "      <td>3.3998316632160224</td>\n",
       "      <td>0.08490340842880606</td>\n",
       "      <td>False</td>\n",
       "      <td>NaN</td>\n",
       "    </tr>\n",
       "    <tr>\n",
       "      <th>2</th>\n",
       "      <td>EA|run2_0325_0005.pdb_wte</td>\n",
       "      <td>TCCGCTGGTGGCTCTGCGGGCGGTTCTGCTGGTGGCGACGAAGTTA...</td>\n",
       "      <td>1.262708</td>\n",
       "      <td>1.314787</td>\n",
       "      <td>1.239876</td>\n",
       "      <td>0.074911</td>\n",
       "      <td>0.092305</td>\n",
       "      <td>-0.997071</td>\n",
       "      <td>3.049332</td>\n",
       "      <td>3.123805</td>\n",
       "      <td>...</td>\n",
       "      <td>DEVTIHLGDKTIRVDGLDKELLEILKELARRGADEEELRKEIERWER</td>\n",
       "      <td>wt</td>\n",
       "      <td>EA|run2_0325_0005.pdb</td>\n",
       "      <td>EEHH</td>\n",
       "      <td>1.2627076164958364</td>\n",
       "      <td>1.169472475788951</td>\n",
       "      <td>3.315782210420261</td>\n",
       "      <td>0.0008539556330444675</td>\n",
       "      <td>False</td>\n",
       "      <td>NaN</td>\n",
       "    </tr>\n",
       "    <tr>\n",
       "      <th>3</th>\n",
       "      <td>EA|run2_0325_0005.pdb_wty</td>\n",
       "      <td>TCCGCTGGTGGCTCCGCGGGTGGTTCCGCTGGTGGTGACGAAGTTA...</td>\n",
       "      <td>1.244782</td>\n",
       "      <td>1.314467</td>\n",
       "      <td>1.195005</td>\n",
       "      <td>0.119462</td>\n",
       "      <td>0.074537</td>\n",
       "      <td>-0.997071</td>\n",
       "      <td>3.023818</td>\n",
       "      <td>3.123346</td>\n",
       "      <td>...</td>\n",
       "      <td>DEVTIHLGDKTIRVDGLDKELLEILKELARRGADEEELRKEIERWER</td>\n",
       "      <td>wt</td>\n",
       "      <td>EA|run2_0325_0005.pdb</td>\n",
       "      <td>EEHH</td>\n",
       "      <td>1.2447822859698547</td>\n",
       "      <td>1.1543165166325822</td>\n",
       "      <td>3.272933265369934</td>\n",
       "      <td>-0.04199498941728219</td>\n",
       "      <td>False</td>\n",
       "      <td>NaN</td>\n",
       "    </tr>\n",
       "    <tr>\n",
       "      <th>4</th>\n",
       "      <td>EA|run2_0325_0005.pdb_wth</td>\n",
       "      <td>TCCGCTGGCGGCTCCGCTGGCGGCTCCGCTGGCGGCTCCGCTGGCG...</td>\n",
       "      <td>0.998142</td>\n",
       "      <td>1.134508</td>\n",
       "      <td>0.723845</td>\n",
       "      <td>0.410663</td>\n",
       "      <td>0.315576</td>\n",
       "      <td>-1.010140</td>\n",
       "      <td>2.694897</td>\n",
       "      <td>2.885558</td>\n",
       "      <td>...</td>\n",
       "      <td>DEVTIHLGDKTIRVDGLDKELLEILKELARRGADEEELRKEIERWER</td>\n",
       "      <td>wt</td>\n",
       "      <td>EA|run2_0325_0005.pdb</td>\n",
       "      <td>EEHH</td>\n",
       "      <td>0.9981417661631856</td>\n",
       "      <td>0.6573573370630326</td>\n",
       "      <td>2.570241917260095</td>\n",
       "      <td>-0.7446863375271211</td>\n",
       "      <td>False</td>\n",
       "      <td>NaN</td>\n",
       "    </tr>\n",
       "  </tbody>\n",
       "</table>\n",
       "<p>5 rows × 37 columns</p>\n",
       "</div>"
      ],
      "text/plain": [
       "                        name  \\\n",
       "0      EA|run2_0325_0005.pdb   \n",
       "1  EA|run2_0325_0005.pdb_wtm   \n",
       "2  EA|run2_0325_0005.pdb_wte   \n",
       "3  EA|run2_0325_0005.pdb_wty   \n",
       "4  EA|run2_0325_0005.pdb_wth   \n",
       "\n",
       "                                             dna_seq  log10_K50_t  \\\n",
       "0  TCTGCTGGCGGCTCCGCGGGTGGTTCCGCTGGTGGTGACGAAGTTA...     1.227105   \n",
       "1  TCCGCGGGTGGTTCCGCTGGCGGTTCTGCGGGCGGTGACGAAGTTA...     1.297559   \n",
       "2  TCCGCTGGTGGCTCTGCGGGCGGTTCTGCTGGTGGCGACGAAGTTA...     1.262708   \n",
       "3  TCCGCTGGTGGCTCCGCGGGTGGTTCCGCTGGTGGTGACGAAGTTA...     1.244782   \n",
       "4  TCCGCTGGCGGCTCCGCTGGCGGCTCCGCTGGCGGCTCCGCTGGCG...     0.998142   \n",
       "\n",
       "   log10_K50_t_95CI_high  log10_K50_t_95CI_low  log10_K50_t_95CI  \\\n",
       "0               1.255092              1.197643          0.057449   \n",
       "1               1.381800              1.243835          0.137965   \n",
       "2               1.314787              1.239876          0.074911   \n",
       "3               1.314467              1.195005          0.119462   \n",
       "4               1.134508              0.723845          0.410663   \n",
       "\n",
       "   fitting_error_t  log10_K50unfolded_t  deltaG_t  deltaG_t_95CI_high  ...  \\\n",
       "0         0.063626            -0.997071  2.998711            3.038485  ...   \n",
       "1         0.092264            -0.997071  3.099109            3.220506  ...   \n",
       "2         0.092305            -0.997071  3.049332            3.123805  ...   \n",
       "3         0.074537            -0.997071  3.023818            3.123346  ...   \n",
       "4         0.315576            -1.010140  2.694897            2.885558  ...   \n",
       "\n",
       "                                            aa_seq  mut_type  \\\n",
       "0  DEVTIHLGDKTIRVDGLDKELLEILKELARRGADEEELRKEIERWER        wt   \n",
       "1  DEVTIHLGDKTIRVDGLDKELLEILKELARRGADEEELRKEIERWER        wt   \n",
       "2  DEVTIHLGDKTIRVDGLDKELLEILKELARRGADEEELRKEIERWER        wt   \n",
       "3  DEVTIHLGDKTIRVDGLDKELLEILKELARRGADEEELRKEIERWER        wt   \n",
       "4  DEVTIHLGDKTIRVDGLDKELLEILKELARRGADEEELRKEIERWER        wt   \n",
       "\n",
       "                 WT_name  WT_cluster  log10_K50_trypsin_ML  \\\n",
       "0  EA|run2_0325_0005.pdb        EEHH    1.2271050771597385   \n",
       "1  EA|run2_0325_0005.pdb        EEHH    1.2975591020191513   \n",
       "2  EA|run2_0325_0005.pdb        EEHH    1.2627076164958364   \n",
       "3  EA|run2_0325_0005.pdb        EEHH    1.2447822859698547   \n",
       "4  EA|run2_0325_0005.pdb        EEHH    0.9981417661631856   \n",
       "\n",
       "   log10_K50_chymotrypsin_ML               dG_ML                 ddG_ML  \\\n",
       "0         1.2135682995736825  3.3321258839433834    0.01719762915616707   \n",
       "1         1.2201805304541726  3.3998316632160224    0.08490340842880606   \n",
       "2          1.169472475788951   3.315782210420261  0.0008539556330444675   \n",
       "3         1.1543165166325822   3.272933265369934   -0.04199498941728219   \n",
       "4         0.6573573370630326   2.570241917260095    -0.7446863375271211   \n",
       "\n",
       "   Stabilizing_mut  pair_name  \n",
       "0            False        NaN  \n",
       "1            False        NaN  \n",
       "2            False        NaN  \n",
       "3            False        NaN  \n",
       "4            False        NaN  \n",
       "\n",
       "[5 rows x 37 columns]"
      ]
     },
     "execution_count": 6,
     "metadata": {},
     "output_type": "execute_result"
    }
   ],
   "source": [
    "df_2.head()"
   ]
  },
  {
   "cell_type": "code",
   "execution_count": 36,
   "metadata": {},
   "outputs": [],
   "source": [
    "dG = df_2['deltaG']\n",
    "dG_ML = df_2['dG_ML']\n",
    "ddG_ML = df_2['ddG_ML']"
   ]
  },
  {
   "cell_type": "code",
   "execution_count": 41,
   "metadata": {},
   "outputs": [
    {
     "data": {
      "text/html": [
       "<div>\n",
       "<style scoped>\n",
       "    .dataframe tbody tr th:only-of-type {\n",
       "        vertical-align: middle;\n",
       "    }\n",
       "\n",
       "    .dataframe tbody tr th {\n",
       "        vertical-align: top;\n",
       "    }\n",
       "\n",
       "    .dataframe thead th {\n",
       "        text-align: right;\n",
       "    }\n",
       "</style>\n",
       "<table border=\"1\" class=\"dataframe\">\n",
       "  <thead>\n",
       "    <tr style=\"text-align: right;\">\n",
       "      <th></th>\n",
       "      <th>deltaG</th>\n",
       "      <th>dG_ML</th>\n",
       "      <th>ddG_ML</th>\n",
       "      <th>aa_seq</th>\n",
       "      <th>WT_name</th>\n",
       "    </tr>\n",
       "  </thead>\n",
       "  <tbody>\n",
       "    <tr>\n",
       "      <th>0</th>\n",
       "      <td>3.332126</td>\n",
       "      <td>3.3321258839433834</td>\n",
       "      <td>0.01719762915616707</td>\n",
       "      <td>DEVTIHLGDKTIRVDGLDKELLEILKELARRGADEEELRKEIERWER</td>\n",
       "      <td>EA|run2_0325_0005.pdb</td>\n",
       "    </tr>\n",
       "    <tr>\n",
       "      <th>1</th>\n",
       "      <td>3.399832</td>\n",
       "      <td>3.3998316632160224</td>\n",
       "      <td>0.08490340842880606</td>\n",
       "      <td>DEVTIHLGDKTIRVDGLDKELLEILKELARRGADEEELRKEIERWER</td>\n",
       "      <td>EA|run2_0325_0005.pdb</td>\n",
       "    </tr>\n",
       "    <tr>\n",
       "      <th>2</th>\n",
       "      <td>3.315782</td>\n",
       "      <td>3.315782210420261</td>\n",
       "      <td>0.0008539556330444675</td>\n",
       "      <td>DEVTIHLGDKTIRVDGLDKELLEILKELARRGADEEELRKEIERWER</td>\n",
       "      <td>EA|run2_0325_0005.pdb</td>\n",
       "    </tr>\n",
       "    <tr>\n",
       "      <th>3</th>\n",
       "      <td>3.272933</td>\n",
       "      <td>3.272933265369934</td>\n",
       "      <td>-0.04199498941728219</td>\n",
       "      <td>DEVTIHLGDKTIRVDGLDKELLEILKELARRGADEEELRKEIERWER</td>\n",
       "      <td>EA|run2_0325_0005.pdb</td>\n",
       "    </tr>\n",
       "    <tr>\n",
       "      <th>4</th>\n",
       "      <td>2.570242</td>\n",
       "      <td>2.570241917260095</td>\n",
       "      <td>-0.7446863375271211</td>\n",
       "      <td>DEVTIHLGDKTIRVDGLDKELLEILKELARRGADEEELRKEIERWER</td>\n",
       "      <td>EA|run2_0325_0005.pdb</td>\n",
       "    </tr>\n",
       "    <tr>\n",
       "      <th>...</th>\n",
       "      <td>...</td>\n",
       "      <td>...</td>\n",
       "      <td>...</td>\n",
       "      <td>...</td>\n",
       "      <td>...</td>\n",
       "    </tr>\n",
       "    <tr>\n",
       "      <th>776293</th>\n",
       "      <td>-2.850140</td>\n",
       "      <td>&lt;-1</td>\n",
       "      <td>-</td>\n",
       "      <td>NQASVVANQLIPINTALTLVMMRSEVVTPVGPPAEDIPRIVGMQVN...</td>\n",
       "      <td>9AME.pdb</td>\n",
       "    </tr>\n",
       "    <tr>\n",
       "      <th>776294</th>\n",
       "      <td>-3.924992</td>\n",
       "      <td>&lt;-1</td>\n",
       "      <td>-</td>\n",
       "      <td>NQASVVANQLIPINTALTLVMMRSEVVTPVGPPAEDIPRWVGMQVN...</td>\n",
       "      <td>9AME.pdb</td>\n",
       "    </tr>\n",
       "    <tr>\n",
       "      <th>776295</th>\n",
       "      <td>-2.365774</td>\n",
       "      <td>&lt;-1</td>\n",
       "      <td>-</td>\n",
       "      <td>NQASVVANQLIPINTALTLVMMRSEVVTPVGPPAEDIPRYVGMQVN...</td>\n",
       "      <td>9AME.pdb</td>\n",
       "    </tr>\n",
       "    <tr>\n",
       "      <th>776296</th>\n",
       "      <td>-1.961486</td>\n",
       "      <td>&lt;-1</td>\n",
       "      <td>-</td>\n",
       "      <td>NQASVVANQLIPINTALTLVMMRSEVVTPVGPPAEDIPRFVGMQVN...</td>\n",
       "      <td>9AME.pdb</td>\n",
       "    </tr>\n",
       "    <tr>\n",
       "      <th>776297</th>\n",
       "      <td>-2.050294</td>\n",
       "      <td>&lt;-1</td>\n",
       "      <td>-</td>\n",
       "      <td>NQASVVANQLIPINTALTLVMMRSEVVTPVGPPAEDIPRPVGMQVN...</td>\n",
       "      <td>9AME.pdb</td>\n",
       "    </tr>\n",
       "  </tbody>\n",
       "</table>\n",
       "<p>776298 rows × 5 columns</p>\n",
       "</div>"
      ],
      "text/plain": [
       "          deltaG               dG_ML                 ddG_ML  \\\n",
       "0       3.332126  3.3321258839433834    0.01719762915616707   \n",
       "1       3.399832  3.3998316632160224    0.08490340842880606   \n",
       "2       3.315782   3.315782210420261  0.0008539556330444675   \n",
       "3       3.272933   3.272933265369934   -0.04199498941728219   \n",
       "4       2.570242   2.570241917260095    -0.7446863375271211   \n",
       "...          ...                 ...                    ...   \n",
       "776293 -2.850140                 <-1                      -   \n",
       "776294 -3.924992                 <-1                      -   \n",
       "776295 -2.365774                 <-1                      -   \n",
       "776296 -1.961486                 <-1                      -   \n",
       "776297 -2.050294                 <-1                      -   \n",
       "\n",
       "                                                   aa_seq  \\\n",
       "0         DEVTIHLGDKTIRVDGLDKELLEILKELARRGADEEELRKEIERWER   \n",
       "1         DEVTIHLGDKTIRVDGLDKELLEILKELARRGADEEELRKEIERWER   \n",
       "2         DEVTIHLGDKTIRVDGLDKELLEILKELARRGADEEELRKEIERWER   \n",
       "3         DEVTIHLGDKTIRVDGLDKELLEILKELARRGADEEELRKEIERWER   \n",
       "4         DEVTIHLGDKTIRVDGLDKELLEILKELARRGADEEELRKEIERWER   \n",
       "...                                                   ...   \n",
       "776293  NQASVVANQLIPINTALTLVMMRSEVVTPVGPPAEDIPRIVGMQVN...   \n",
       "776294  NQASVVANQLIPINTALTLVMMRSEVVTPVGPPAEDIPRWVGMQVN...   \n",
       "776295  NQASVVANQLIPINTALTLVMMRSEVVTPVGPPAEDIPRYVGMQVN...   \n",
       "776296  NQASVVANQLIPINTALTLVMMRSEVVTPVGPPAEDIPRFVGMQVN...   \n",
       "776297  NQASVVANQLIPINTALTLVMMRSEVVTPVGPPAEDIPRPVGMQVN...   \n",
       "\n",
       "                      WT_name  \n",
       "0       EA|run2_0325_0005.pdb  \n",
       "1       EA|run2_0325_0005.pdb  \n",
       "2       EA|run2_0325_0005.pdb  \n",
       "3       EA|run2_0325_0005.pdb  \n",
       "4       EA|run2_0325_0005.pdb  \n",
       "...                       ...  \n",
       "776293               9AME.pdb  \n",
       "776294               9AME.pdb  \n",
       "776295               9AME.pdb  \n",
       "776296               9AME.pdb  \n",
       "776297               9AME.pdb  \n",
       "\n",
       "[776298 rows x 5 columns]"
      ]
     },
     "execution_count": 41,
     "metadata": {},
     "output_type": "execute_result"
    }
   ],
   "source": [
    "df_2[['deltaG', 'dG_ML', 'ddG_ML', 'aa_seq', 'WT_name']]"
   ]
  },
  {
   "cell_type": "code",
   "execution_count": 7,
   "metadata": {},
   "outputs": [],
   "source": [
    "domain_names = set()\n",
    "for n in names:\n",
    "    domain_names.add(n.split('.')[0])"
   ]
  },
  {
   "cell_type": "code",
   "execution_count": 8,
   "metadata": {},
   "outputs": [
    {
     "name": "stdout",
     "output_type": "stream",
     "text": [
      "Train Split: ['2LJ3', '2KVS', '2LXK', '2L7M', '2YSB', '2CJJ', 'XX|run8_0733_0006', 'EEHEE_rd3_1615', '2MC5', '5VNT', 'GG|run4_0284_0002', '1UFM', '2AMI', 'r4_412_TrROS_Hall', '1PGA', 'XX|run6_1020_0004', 'v2_2L15', 'v2_2LXE', 'XX|run8_1063_0003', '2GP8', 'HHH_rd1_0244', 'v2K43S_2KVV', 'HHH_rd4_0676', '2B88', 'v2_1OGW', '5UYO', '1E0L', 'GG|run3_1315_0003', 'EEHEE_rd3_0146', '1GYZ', '2I5L', '7MSI', 'HEEH_KT_rd6_0007', 'GG|run1_1390_0006', 'v2_2M5A', '2LVN', '2WXC', '2LO1', 'GG|run6_0851_0003', '2BTT', '2LX2', 'EA|run2_0325_0005', 'EHEE_rd4_0864', 'EEHEE_rd3_1587', '1GJS', '2MYX', 'EEHEE_rd4_0308', 'HHH_rd4_0870', 'EEHEE_rd3_1702', 'EHEE_rd4_0098', 'EEHEE_rd4_0371', '1A32', '2KCM', '2LGW', '1YU5', 'EEHEE_rd4_0469', 'GG|run5_1309_0004', '2LC2', 'EHEE_rd4_0086', '1W4F', '1EM7', '2HBB', 'EHEE_rd2_1106', '2K1B', 'r3_162_TrROS_Hall', '2M6Y', 'GG|run6_0775_0006', '2L2P', 'HEEH_KT_rd6_0746', '1QKH', '2YSF', '2OCH', '5UP5', '1EKL', 'HHH_rd1_0335', 'r11_569_TrROS_Hall', '1LP1', 'HHH_rd1_0949', '1PGX', '2M8J', 'HHH_rd2_0181', '2K5H', '1CSQ', 'GG|run5_0637_0006', '2MSG', 'EA|run6_1429_0006', 'r10_572_TrROS_Hall', '1B7J', '1H8K', '2MKX', '2EXD', '2K5N', '1K1V', '5FWB', '2L33', '1OPS', '2KRU', '3NGP', '1YRF', '1JIC', '4HCK', '2MW9', '2M2J', '2MCH', '4UR4', '2PFU', '3L1X', '1WR4', '2L7F', '1YEZ', 'EEHEE_rd3_0094', '3AME', '2MA4', '5FW9', '3MYC', '2L9R', '2M0Y', 'HEEH_rd4_0349', '2LHR', 'EEHEE_rd4_0363', 'HEEH_rd3_0223', 'EHEE_rd3_0053', '2KZI', 'GG|run4_1050_0002', 'XX|run10_1081_0004', 'v2_2LC2', '2JZ2', 'HEEH_KT_rd6_0280', '3CQT', 'EHEE_rd2_0601', 'EHEE_rd4_0877', 'EA|run3_1140_0005', 'GG|run6_1310_0004', '2M8U', 'r6_831_TrROS_Hall', 'HHH_rd1_0598', 'EEHEE_rd4_0794', '1TUC', '1QP2', '2L6Q', '6ACV', '6IWS', '2N88', '2MWB', 'HHH_rd1_0493', 'GG|run4_0467_0002', '5AHT', '2JWT', 'EA|run7_1025_0001', '6SOW', 'GG|run5_1147_0004', '5JRT', 'r14_263_TrROS_Hall', 'EEHEE_rd4_0005', 'HEEH_KT_rd6_3632', '1O6X', 'EEHEE_rd4_0003', 'EHEE_rd4_0840', '2BTH', '1WCL', 'r15_550_TrROS_Hall', '6XQC', '1PSE', '1Y0M', '2LQK', '2MCK', '1I6C', '1I2T', 'r11_797_TrROS_Hall', '1SF0', '3ZGK', 'XX|run1_0367_0004', 'EEHEE_rd3_0809', '6EWS', 'EA|run6_0680_0006', 'EHEE_rd2_0487', '2RU9', 'EHEE_rd2_0196', '2KZJ', 'EEHEE_rd4_0647', '2MI6', '2LCL', '2LUM', 'EEHEE_rd4_0763', 'HHH_rd2_0155', 'EHEE_rd4_0325', '2MSJ', '1ORC', '2KGT', '1V1C', 'EEHEE_rd4_0481', '3DKM', 'HHH_rd4_0124', '2MLB', '2RRU', 'EEHEE_rd3_1498', '8MSI', '2B89', '1BNZ', '2M9I', 'EHEE_rd2_0751', '2WQG', '4C26', '2N4R', '2KWH', 'v2_6IVS', 'XX|run5_1034_0004', '1MJC', 'HHH_rd4_0816', '4AME', '2L09', '1BK2', '5Z2S', '1TG0', 'v2R31S|R32S_2N5D', 'v2_4UZX', '2KT8', '2MH8', '1QKX', '1ZHC', '1IGD', 'GG|run2_0085_0001', 'EHEE_rd1_0407', 'EHEE_rd4_0502', '9AME', 'EEHEE_rd3_1367', '6MSI', '2M9F', '5XR0', '5LWC', '1AOY', '2K9D', '1IGV', 'EHEE_rd4_0394', 'EHEE_rd1_0459', '1S1N', '2KCF', '2M8I', '2LYP', '1URF', '2D1U', 'EA|run2_0290_0001', '2WNM', '2ZW1', 'HHH_rd1_0142', '2JN4', '2LYQ', '6FVC', 'EA|run3_0321_0005', '6IPY', '6NMW', '1UZC', 'GG|run3_1365_0003', 'EHEE_rd4_0463', '3I35', '2KYB', '2ROT', 'HHH_rd1_0516', '2KFV', '2N9L', '1W4G', '5LXJ', 'EEHEE_rd3_1049', '5ECA', 'r4_43_TrROS_Hall', 'EHEE_rd2_0372', '2JTV', 'v2_2LDM', '2MWA', 'r11_233_TrROS_Hall', '5GU9', '1UCS', 'HHH_rd4_0613', '2K52', '2JT1', '1R69', '3V1A', 'HEEH_rd4_0097', '1TUD', 'EEHEE_rd3_0019', '1ZLM', 'r7_587_TrROS_Hall', '6OBK', 'EEHEE_rd3_0130', '1UBQ']\n",
      "Validation Split: ['1VII', 'EA|run3_0525_0006', '5KPH', '3QF6', '8AME', '2KRS', '1PV0', '2K28', '4UZW', '6EWT', '6M3N', 'XX|run1_0461_0006', 'XX|run1_0254_0003', '2K5P', '2M0X', '1SIF', '2LP5', '6RO9', 'XX|run5_0690_0002', '6EWU', '6YSE', 'EEHEE_rd3_1810', '2MXD', 'EHEE_rd4_0625', '1H92', 'EHEE_rd3_0035', '2CDT', '2QFF', 'XX|run1_0455_0002', 'EEHEE_rd3_1818', '1E6H', '1PWT', '1GB4', '1QLY', 'EEHEE_rd3_1716', 'EEHEE_rd3_0602', '2JWS', 'HEEH_KT_rd6_0793', 'HEEH_KT_rd6_0790', 'EEHEE_rd4_0256', '5UB0', '6NS8', '5UBS', '2M9E', '2RJV', '2JVD', '1MSJ', 'HEEH_KT_rd6_3546', '2M7O', 'EHEE_rd2_0152', 'HEEH_KT_rd6_1415', '5OAO', 'r11_829_TrROS_Hall', 'EA|run7_1572_0002', '2PTL', '2M2L', 'r10_490_TrROS_Hall', 'EHEE_rd4_0726', '5UCE', '1YP5', '2KR3']\n",
      "Test Split: ['6SCW', 'HHH_rd4_0395', 'r6_560_TrROS_Hall', '2RRT', 'r16_88_TrROS_Hall', '2LYR', '1SRM', '6NJF', '2AME', '2LHC', 'r11_951_TrROS_Hall', 'EHEE_rd2_1257', 'HHH_rd1_0578', '4G3O', 'v2R14S|R16S_2L3X', '7BPM', '1IFY', 'r10_437_TrROS_Hall', '2LSS', 'v2_5XK5', 'r12_757_TrROS_Hall', 'XX|run7_0974_0003', '2OP7', '1A0N', '1ENH', '2M8E', '1W4H', 'HHH_rd1_0473', '1F0M', 'XX|run6_1081_0004', 'EEHEE_rd4_0784', 'v2_2HDZ', 'EHEE_rd4_0044', 'HEEH_rd4_0094', 'HHH_rd4_0557', 'HEEH_KT_rd6_0872', 'HEEH_rd3_0055', 'r18_3_TrROS_Hall', 'XX|run8_1203_0001', '2JVG', 'EHEE_rd1_0101', '2M0C', 'XX|run8_1098_0003', '2MKY', '2KVT', 'EHEE_rd2_0191', '2KXD', 'r11_1081_TrROS_Hall', 'EEHEE_rd3_0657', 'EHEE_rd4_0195', '1GL5', '5ZD0', 'EA|run5_0050_0004', '2O2W', 'XX|run3_1384_0005', '2L2D', '6AME', 'EEHEE_rd4_0470', '7JJK', 'HHH_rd1_0606', 'EHEE_rd4_0172', '2K2A']\n"
     ]
    }
   ],
   "source": [
    "np.random.seed(0)\n",
    "# Convert the set to a list for indexing\n",
    "domain_names_list = list(domain_names)\n",
    "\n",
    "# Shuffle the list to ensure randomness\n",
    "np.random.shuffle(domain_names_list)\n",
    "\n",
    "# Calculate the split sizes\n",
    "total = len(domain_names_list)\n",
    "train_size = int(0.70 * total)\n",
    "val_size = int(0.15 * total)\n",
    "test_size = total - train_size - val_size  # Ensure remaining goes to test\n",
    "\n",
    "# Split into train, val, test\n",
    "train_split = domain_names_list[:train_size]\n",
    "val_split = domain_names_list[train_size:train_size + val_size]\n",
    "test_split = domain_names_list[train_size + val_size:]\n",
    "\n",
    "# Print the results\n",
    "print(\"Train Split:\", train_split)\n",
    "print(\"Validation Split:\", val_split)\n",
    "print(\"Test Split:\", test_split)\n",
    "\n",
    "# Save train split\n",
    "with open(\"rocklin/train_split.txt\", \"w\") as f:\n",
    "    for item in train_split:\n",
    "        f.write(f\"{item}\\n\")\n",
    "\n",
    "# Save validation split\n",
    "with open(\"rocklin/val_split.txt\", \"w\") as f:\n",
    "    for item in val_split:\n",
    "        f.write(f\"{item}\\n\")\n",
    "\n",
    "# Save test split\n",
    "with open(\"rocklin/test_split.txt\", \"w\") as f:\n",
    "    for item in test_split:\n",
    "        f.write(f\"{item}\\n\")"
   ]
  },
  {
   "cell_type": "code",
   "execution_count": 9,
   "metadata": {},
   "outputs": [
    {
     "name": "stdout",
     "output_type": "stream",
     "text": [
      "There are 559659 training sequences\n",
      "There are 118139 validation sequences\n",
      "There are 98500 test sequences\n"
     ]
    }
   ],
   "source": [
    "train_seq_cnt, val_seq_cnt, test_seq_cnt = 0, 0, 0\n",
    "for n in names:\n",
    "    if n.split('.')[0] in train_split:\n",
    "        train_seq_cnt += 1\n",
    "    elif n.split('.')[0] in val_split:\n",
    "        val_seq_cnt += 1\n",
    "    elif n.split('.')[0] in test_split:\n",
    "        test_seq_cnt += 1\n",
    "print(f'There are {train_seq_cnt} training sequences')\n",
    "print(f'There are {val_seq_cnt} validation sequences')\n",
    "print(f'There are {test_seq_cnt} test sequences')"
   ]
  },
  {
   "cell_type": "code",
   "execution_count": 12,
   "metadata": {},
   "outputs": [
    {
     "name": "stdout",
     "output_type": "stream",
     "text": [
      "There are 862 .pdb files in the directory.\n"
     ]
    }
   ],
   "source": [
    "# Specify the directory\n",
    "directory = '/home/exx/arthur/data/rocklin/AlphaFold_model_PDBs'\n",
    "\n",
    "# Count the number of .pdb files\n",
    "pdb_files = [f for f in os.listdir(directory) if f.endswith('.pdb')]\n",
    "print(f\"There are {len(pdb_files)} .pdb files in the directory.\")\n",
    "for name in domain_names_list:\n",
    "    name = name.replace(\"|\", ':')\n",
    "    name = name.split('.')[0]\n",
    "    path = os.path.join('/home/exx/arthur/data/rocklin/AlphaFold_model_PDBs', f'{name}.pdb')\n",
    "    if not os.path.exists(path):\n",
    "        print(path)"
   ]
  },
  {
   "cell_type": "code",
   "execution_count": 13,
   "metadata": {},
   "outputs": [],
   "source": [
    "with open('rocklin/train_split.txt', 'r') as file:\n",
    "    train_names = file.readlines()\n",
    "train_names = [line.strip() for line in train_names]\n",
    "\n",
    "with open('rocklin/val_split.txt', 'r') as file:\n",
    "    val_names = file.readlines()\n",
    "val_names = [line.strip() for line in val_names]"
   ]
  },
  {
   "cell_type": "code",
   "execution_count": 14,
   "metadata": {},
   "outputs": [
    {
     "name": "stderr",
     "output_type": "stream",
     "text": [
      "100%|██████████| 285/285 [00:39<00:00,  7.20it/s]\n"
     ]
    }
   ],
   "source": [
    "from protein_mpnn_utils import parse_PDB\n",
    "from tqdm import tqdm\n",
    "pdb_dict_train = []\n",
    "for name in tqdm(train_names):\n",
    "    name = name.replace(\"|\", ':')\n",
    "    path = os.path.join('/home/exx/arthur/data/rocklin/AlphaFold_model_PDBs', f'{name}.pdb')\n",
    "    pdb_dict_train.append(parse_PDB(path)[0])\n"
   ]
  },
  {
   "cell_type": "code",
   "execution_count": 15,
   "metadata": {},
   "outputs": [
    {
     "name": "stderr",
     "output_type": "stream",
     "text": [
      "100%|██████████| 61/61 [00:08<00:00,  7.27it/s]\n"
     ]
    }
   ],
   "source": [
    "pdb_dict_val = []\n",
    "for name in tqdm(val_names):\n",
    "    name = name.replace(\"|\", ':')\n",
    "    path = os.path.join('/home/exx/arthur/data/rocklin/AlphaFold_model_PDBs', f'{name}.pdb')\n",
    "    pdb_dict_val.append(parse_PDB(path)[0])"
   ]
  },
  {
   "cell_type": "code",
   "execution_count": 16,
   "metadata": {},
   "outputs": [],
   "source": [
    "for dict in pdb_dict_train:\n",
    "    dict['masked_list'] = ['A']\n",
    "    dict['visible_list'] = []\n",
    "for dict in pdb_dict_val:\n",
    "    dict['masked_list'] = ['A']\n",
    "    dict['visible_list'] = []"
   ]
  },
  {
   "cell_type": "code",
   "execution_count": 17,
   "metadata": {},
   "outputs": [],
   "source": [
    "from training.utils import worker_init_fn, get_pdbs, loader_pdb, build_training_clusters, PDB_dataset, StructureDataset, StructureLoader\n",
    "dataset_train = StructureDataset(pdb_dict_train, truncate=None, max_length=3000) \n",
    "dataset_valid = StructureDataset(pdb_dict_val, truncate=None, max_length=3000)\n",
    "\n",
    "loader_train = StructureLoader(dataset_train, batch_size=10000)\n",
    "loader_valid = StructureLoader(dataset_valid, batch_size=10000)"
   ]
  },
  {
   "cell_type": "code",
   "execution_count": 18,
   "metadata": {},
   "outputs": [
    {
     "data": {
      "text/plain": [
       "dict_keys(['seq_chain_A', 'coords_chain_A', 'name', 'num_of_chains', 'seq', 'masked_list', 'visible_list'])"
      ]
     },
     "execution_count": 18,
     "metadata": {},
     "output_type": "execute_result"
    }
   ],
   "source": [
    "pdb_dict_train[0].keys()"
   ]
  },
  {
   "cell_type": "code",
   "execution_count": 19,
   "metadata": {},
   "outputs": [],
   "source": [
    "import torch\n",
    "import os\n",
    "os.environ[\"CUDA_VISIBLE_DEVICES\"]=\"1\"\n",
    "device = torch.device(\"cuda\")"
   ]
  },
  {
   "cell_type": "code",
   "execution_count": 20,
   "metadata": {},
   "outputs": [],
   "source": [
    "from training.model_utils import featurize, loss_smoothed, loss_nll, get_std_opt, ProteinMPNN\n",
    "\n",
    "model = ProteinMPNN(node_features=128, \n",
    "                    edge_features=128, \n",
    "                    hidden_dim=128, \n",
    "                    num_encoder_layers=3, \n",
    "                    num_decoder_layers=3, \n",
    "                    k_neighbors=48, \n",
    "                    dropout=0.1, \n",
    "                    augment_eps=0.2)\n",
    "model.to(device)\n",
    "\n",
    "# checkpoint = torch.load('soluble_model_weights/v_48_020.pt')\n",
    "# total_step = checkpoint['step'] #write total_step from the checkpoint\n",
    "# epoch = checkpoint['epoch'] #write epoch from the checkpoint\n",
    "# model.load_state_dict(checkpoint['model_state_dict'])\n",
    "optimizer = get_std_opt(model.parameters(), 128, 0)\n"
   ]
  },
  {
   "cell_type": "code",
   "execution_count": 34,
   "metadata": {},
   "outputs": [
    {
     "name": "stderr",
     "output_type": "stream",
     "text": [
      "  0%|          | 0/100 [00:00<?, ?it/s]/home/exx/anaconda3/envs/arthur/lib/python3.12/site-packages/torch/_dynamo/eval_frame.py:600: UserWarning: torch.utils.checkpoint: the use_reentrant parameter should be passed explicitly. In version 2.4 we will raise an exception if use_reentrant is not passed. use_reentrant=False is recommended, but if you need to preserve the current default behavior, you can pass use_reentrant=True. Refer to docs for more details on the differences between the two variants.\n",
      "  return fn(*args, **kwargs)\n",
      "/home/exx/anaconda3/envs/arthur/lib/python3.12/site-packages/torch/utils/checkpoint.py:295: FutureWarning: `torch.cpu.amp.autocast(args...)` is deprecated. Please use `torch.amp.autocast('cpu', args...)` instead.\n",
      "  with torch.enable_grad(), device_autocast_ctx, torch.cpu.amp.autocast(**ctx.cpu_autocast_kwargs):  # type: ignore[attr-defined]\n"
     ]
    },
    {
     "name": "stdout",
     "output_type": "stream",
     "text": [
      "109\n",
      "175\n"
     ]
    },
    {
     "name": "stderr",
     "output_type": "stream",
     "text": [
      "  1%|          | 1/100 [00:01<01:41,  1.02s/it]"
     ]
    },
    {
     "name": "stdout",
     "output_type": "stream",
     "text": [
      "175\n",
      "109\n"
     ]
    },
    {
     "name": "stderr",
     "output_type": "stream",
     "text": [
      "  2%|▏         | 2/100 [00:02<01:38,  1.00s/it]"
     ]
    },
    {
     "name": "stdout",
     "output_type": "stream",
     "text": [
      "109\n",
      "175\n"
     ]
    },
    {
     "name": "stderr",
     "output_type": "stream",
     "text": [
      "  3%|▎         | 3/100 [00:03<01:36,  1.00it/s]"
     ]
    },
    {
     "name": "stdout",
     "output_type": "stream",
     "text": [
      "109\n",
      "175\n"
     ]
    },
    {
     "name": "stderr",
     "output_type": "stream",
     "text": [
      "  4%|▍         | 4/100 [00:03<01:35,  1.00it/s]"
     ]
    },
    {
     "name": "stdout",
     "output_type": "stream",
     "text": [
      "175\n",
      "109\n"
     ]
    },
    {
     "name": "stderr",
     "output_type": "stream",
     "text": [
      "  5%|▌         | 5/100 [00:04<01:34,  1.00it/s]"
     ]
    },
    {
     "name": "stdout",
     "output_type": "stream",
     "text": [
      "175\n",
      "109\n"
     ]
    },
    {
     "name": "stderr",
     "output_type": "stream",
     "text": [
      "  6%|▌         | 6/100 [00:05<01:33,  1.00it/s]"
     ]
    },
    {
     "name": "stdout",
     "output_type": "stream",
     "text": [
      "109\n",
      "175\n"
     ]
    },
    {
     "name": "stderr",
     "output_type": "stream",
     "text": [
      "  7%|▋         | 7/100 [00:06<01:32,  1.00it/s]"
     ]
    },
    {
     "name": "stdout",
     "output_type": "stream",
     "text": [
      "109\n",
      "175\n"
     ]
    },
    {
     "name": "stderr",
     "output_type": "stream",
     "text": [
      "  8%|▊         | 8/100 [00:08<01:32,  1.00s/it]"
     ]
    },
    {
     "name": "stdout",
     "output_type": "stream",
     "text": [
      "175\n",
      "109\n"
     ]
    },
    {
     "name": "stderr",
     "output_type": "stream",
     "text": [
      "  9%|▉         | 9/100 [00:09<01:31,  1.00s/it]"
     ]
    },
    {
     "name": "stdout",
     "output_type": "stream",
     "text": [
      "175\n",
      "109\n"
     ]
    },
    {
     "name": "stderr",
     "output_type": "stream",
     "text": [
      " 10%|█         | 10/100 [00:10<01:30,  1.01s/it]"
     ]
    },
    {
     "name": "stdout",
     "output_type": "stream",
     "text": [
      "175\n",
      "109\n"
     ]
    },
    {
     "name": "stderr",
     "output_type": "stream",
     "text": [
      " 10%|█         | 10/100 [00:11<01:39,  1.10s/it]\n"
     ]
    },
    {
     "ename": "KeyboardInterrupt",
     "evalue": "",
     "output_type": "error",
     "traceback": [
      "\u001b[0;31m---------------------------------------------------------------------------\u001b[0m",
      "\u001b[0;31mKeyboardInterrupt\u001b[0m                         Traceback (most recent call last)",
      "Cell \u001b[0;32mIn[34], line 20\u001b[0m\n\u001b[1;32m     16\u001b[0m optimizer\u001b[38;5;241m.\u001b[39mstep()\n\u001b[1;32m     18\u001b[0m loss, loss_av, true_false \u001b[38;5;241m=\u001b[39m loss_nll(S, log_probs, mask_for_loss)\n\u001b[0;32m---> 20\u001b[0m train_sum \u001b[38;5;241m+\u001b[39m\u001b[38;5;241m=\u001b[39m \u001b[43mtorch\u001b[49m\u001b[38;5;241;43m.\u001b[39;49m\u001b[43msum\u001b[49m\u001b[43m(\u001b[49m\u001b[43mloss\u001b[49m\u001b[43m \u001b[49m\u001b[38;5;241;43m*\u001b[39;49m\u001b[43m \u001b[49m\u001b[43mmask_for_loss\u001b[49m\u001b[43m)\u001b[49m\u001b[38;5;241;43m.\u001b[39;49m\u001b[43mcpu\u001b[49m\u001b[43m(\u001b[49m\u001b[43m)\u001b[49m\u001b[38;5;241m.\u001b[39mdata\u001b[38;5;241m.\u001b[39mnumpy()\n\u001b[1;32m     21\u001b[0m train_acc \u001b[38;5;241m+\u001b[39m\u001b[38;5;241m=\u001b[39m torch\u001b[38;5;241m.\u001b[39msum(true_false \u001b[38;5;241m*\u001b[39m mask_for_loss)\u001b[38;5;241m.\u001b[39mcpu()\u001b[38;5;241m.\u001b[39mdata\u001b[38;5;241m.\u001b[39mnumpy()\n\u001b[1;32m     22\u001b[0m train_weights \u001b[38;5;241m+\u001b[39m\u001b[38;5;241m=\u001b[39m torch\u001b[38;5;241m.\u001b[39msum(mask_for_loss)\u001b[38;5;241m.\u001b[39mcpu()\u001b[38;5;241m.\u001b[39mdata\u001b[38;5;241m.\u001b[39mnumpy()\n",
      "\u001b[0;31mKeyboardInterrupt\u001b[0m: "
     ]
    }
   ],
   "source": [
    "losses = []\n",
    "for e in tqdm(range(100)):\n",
    "    model.train()\n",
    "    train_sum, train_weights = 0., 0.\n",
    "    train_acc = 0.\n",
    "    for _, batch in enumerate(loader_train):\n",
    "        X, S, mask, lengths, chain_M, residue_idx, mask_self, chain_encoding_all = featurize(batch, device)\n",
    "        optimizer.zero_grad()\n",
    "        mask_for_loss = mask*chain_M\n",
    "\n",
    "        log_probs = model(X, S, mask, chain_M, residue_idx, chain_encoding_all)\n",
    "        _, loss_av_smoothed = loss_smoothed(S, log_probs, mask_for_loss)\n",
    "        loss_av_smoothed.backward()\n",
    "\n",
    "        optimizer.step()\n",
    "        \n",
    "        loss, loss_av, true_false = loss_nll(S, log_probs, mask_for_loss)\n",
    "    \n",
    "        train_sum += torch.sum(loss * mask_for_loss).cpu().data.numpy()\n",
    "        train_acc += torch.sum(true_false * mask_for_loss).cpu().data.numpy()\n",
    "        train_weights += torch.sum(mask_for_loss).cpu().data.numpy()\n",
    "        losses.append(loss_av_smoothed)\n"
   ]
  },
  {
   "cell_type": "code",
   "execution_count": 31,
   "metadata": {},
   "outputs": [
    {
     "data": {
      "text/plain": [
       "torch.Size([109, 74, 4, 3])"
      ]
     },
     "execution_count": 31,
     "metadata": {},
     "output_type": "execute_result"
    }
   ],
   "source": [
    "X.shape"
   ]
  },
  {
   "cell_type": "code",
   "execution_count": 33,
   "metadata": {},
   "outputs": [
    {
     "data": {
      "text/plain": [
       "tensor([[ 8, 14, 19,  ...,  0,  0,  0],\n",
       "        [16,  5,  7,  ...,  0,  0,  0],\n",
       "        [16,  4,  3,  ...,  0,  0,  0],\n",
       "        ...,\n",
       "        [12, 17, 19,  ...,  5,  0,  0],\n",
       "        [17,  5,  2,  ...,  2,  0,  0],\n",
       "        [15, 12,  3,  ...,  7, 15, 13]], device='cuda:0')"
      ]
     },
     "execution_count": 33,
     "metadata": {},
     "output_type": "execute_result"
    }
   ],
   "source": [
    "S"
   ]
  },
  {
   "cell_type": "code",
   "execution_count": 32,
   "metadata": {},
   "outputs": [
    {
     "data": {
      "text/plain": [
       "torch.Size([109, 74])"
      ]
     },
     "execution_count": 32,
     "metadata": {},
     "output_type": "execute_result"
    }
   ],
   "source": [
    "S.shape"
   ]
  },
  {
   "cell_type": "code",
   "execution_count": 28,
   "metadata": {},
   "outputs": [
    {
     "data": {
      "text/plain": [
       "torch.Size([109, 74, 21])"
      ]
     },
     "execution_count": 28,
     "metadata": {},
     "output_type": "execute_result"
    }
   ],
   "source": [
    "log_probs.shape"
   ]
  },
  {
   "cell_type": "code",
   "execution_count": 26,
   "metadata": {},
   "outputs": [
    {
     "data": {
      "text/plain": [
       "[<matplotlib.lines.Line2D at 0x7f186da6ddf0>]"
      ]
     },
     "execution_count": 26,
     "metadata": {},
     "output_type": "execute_result"
    },
    {
     "data": {
      "image/png": "[encoded data removed]",
      "text/plain": [
       "<Figure size 640x480 with 1 Axes>"
      ]
     },
     "metadata": {},
     "output_type": "display_data"
    }
   ],
   "source": [
    "import matplotlib.pyplot as plt\n",
    "losses = [l.item() for l in losses]\n",
    "plt.plot(losses)"
   ]
  },
  {
   "cell_type": "code",
   "execution_count": 110,
   "metadata": {},
   "outputs": [],
   "source": []
  },
  {
   "cell_type": "code",
   "execution_count": null,
   "metadata": {},
   "outputs": [],
   "source": [
    "# pseudo code\n",
    "\n"
   ]
  }
 ],
 "metadata": {
  "kernelspec": {
   "display_name": "mlfold",
   "language": "python",
   "name": "python3"
  },
  "language_info": {
   "codemirror_mode": {
    "name": "ipython",
    "version": 3
   },
   "file_extension": ".py",
   "mimetype": "text/x-python",
   "name": "python",
   "nbconvert_exporter": "python",
   "pygments_lexer": "ipython3",
   "version": "3.12.6"
  }
 },
 "nbformat": 4,
 "nbformat_minor": 2
}
